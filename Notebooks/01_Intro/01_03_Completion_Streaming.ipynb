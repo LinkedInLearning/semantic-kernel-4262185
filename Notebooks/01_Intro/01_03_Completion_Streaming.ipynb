{
 "cells": [
  {
   "cell_type": "markdown",
   "metadata": {},
   "source": [
    "# 03 - Intro Semantic Kernel\n",
    "\n",
    "## Chat Completion Streaming \n"
   ]
  },
  {
   "cell_type": "markdown",
   "metadata": {},
   "source": [
    "## Environment"
   ]
  },
  {
   "cell_type": "code",
   "execution_count": 1,
   "metadata": {
    "dotnet_interactive": {
     "language": "csharp"
    },
    "polyglot_notebook": {
     "kernelName": "csharp"
    }
   },
   "outputs": [],
   "source": [
    "#r \"nuget: Microsoft.SemanticKernel, 1.38.0\"\n",
    "#r \"nuget: DotNetEnv, 3.1.1\"\n",
    "\n",
    "using System.IO;\n",
    "using DotNetEnv;\n",
    "using Microsoft.SemanticKernel;\n",
    "using Microsoft.SemanticKernel.ChatCompletion;\n",
    "\n",
    "string configurationFile = \"../config/config.env\";\n",
    "\n",
    "Env.Load(configurationFile);\n",
    "\n",
    "string apiKey = Env.GetString(\"SK_OPENAI_APIKEY\");\n",
    "string endpoint = Env.GetString(\"SK_OPENAI_ENDPOINT\");\n",
    "string chatCompletionDeployment = Env.GetString(\"SK_OPENAI_CHATCOMPLETION_DEPLOYMENT_DEFAULT\");\n",
    "\n",
    "Console.WriteLine($\"Configuration loaded...\");"
   ]
  },
  {
   "cell_type": "markdown",
   "metadata": {},
   "source": [
    "## Create Kernel\n"
   ]
  },
  {
   "cell_type": "code",
   "execution_count": 2,
   "metadata": {
    "dotnet_interactive": {
     "language": "csharp"
    },
    "polyglot_notebook": {
     "kernelName": "csharp"
    }
   },
   "outputs": [],
   "source": [
    "Kernel kernel = Kernel.CreateBuilder()\n",
    "    .AddAzureOpenAIChatCompletion(\n",
    "        apiKey: apiKey, \n",
    "        endpoint: endpoint, \n",
    "        deploymentName: chatCompletionDeployment\n",
    "    )\n",
    "    .Build();\n",
    "\n",
    "Console.WriteLine($\"Kernel created...\");"
   ]
  },
  {
   "cell_type": "markdown",
   "metadata": {},
   "source": [
    "## Text Completion Streaming\n",
    "\n"
   ]
  },
  {
   "cell_type": "code",
   "execution_count": 5,
   "metadata": {
    "dotnet_interactive": {
     "language": "csharp"
    },
    "polyglot_notebook": {
     "kernelName": "csharp"
    }
   },
   "outputs": [],
   "source": [
    "string grounding = \"The Super Sports Championship 2025 was won by the Munich Flying Dolphins with a score of 30-27.\";\n",
    "string prompt = String.Concat(grounding, \"\\n\", \"Who won the Super Sports Championship in 2025?\");\n",
    "\n",
    "await foreach (StreamingKernelContent streamingKernelContent in kernel.InvokePromptStreamingAsync(prompt))\n",
    "{\n",
    "    if (streamingKernelContent.InnerContent is OpenAI.Chat.StreamingChatCompletionUpdate \n",
    "            streamingChatCompletionUpdate)\n",
    "    {\n",
    "        if (streamingChatCompletionUpdate.ContentUpdate.Count > 0)\n",
    "            Console.WriteLine($\"{streamingChatCompletionUpdate.ContentUpdate.First().Text}\");\n",
    "    }\n",
    "        \n",
    "}       "
   ]
  },
  {
   "cell_type": "code",
   "execution_count": 8,
   "metadata": {
    "dotnet_interactive": {
     "language": "csharp"
    },
    "polyglot_notebook": {
     "kernelName": "csharp"
    }
   },
   "outputs": [],
   "source": [
    "IChatCompletionService chatCompletionService = kernel.GetRequiredService<IChatCompletionService>();\n",
    "\n",
    "ChatHistory chatHistory = new ChatHistory();\n",
    "chatHistory.AddUserMessage(prompt);\n",
    "\n",
    "IAsyncEnumerable<StreamingChatMessageContent> streamingChatMessageContents = chatCompletionService.GetStreamingChatMessageContentsAsync(\n",
    "    chatHistory: chatHistory\n",
    ");\n",
    "\n",
    "await foreach (StreamingChatMessageContent streamingMessageContent in streamingChatMessageContents)\n",
    "{\n",
    "    if (!String.IsNullOrEmpty(streamingMessageContent.Content))\n",
    "        Console.WriteLine($\"{streamingMessageContent.Content}\");\n",
    "}"
   ]
  }
 ],
 "metadata": {
  "kernelspec": {
   "display_name": ".NET (C#)",
   "language": "C#",
   "name": ".net-csharp"
  },
  "polyglot_notebook": {
   "kernelInfo": {
    "defaultKernelName": "csharp",
    "items": [
     {
      "aliases": [],
      "languageName": "csharp",
      "name": "csharp"
     }
    ]
   }
  }
 },
 "nbformat": 4,
 "nbformat_minor": 2
}
