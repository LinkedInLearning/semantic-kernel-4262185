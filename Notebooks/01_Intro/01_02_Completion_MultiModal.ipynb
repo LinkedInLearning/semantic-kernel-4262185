{
 "cells": [
  {
   "cell_type": "markdown",
   "metadata": {},
   "source": [
    "# 02 - Intro Semantic Kernel\n",
    "\n",
    "## Multi Modal Completion \n",
    "\n",
    "\n",
    "![Image](../assets/ImageCompletion.jpg)"
   ]
  },
  {
   "cell_type": "markdown",
   "metadata": {},
   "source": [
    "## Environment"
   ]
  },
  {
   "cell_type": "code",
   "execution_count": null,
   "metadata": {
    "dotnet_interactive": {
     "language": "csharp"
    },
    "polyglot_notebook": {
     "kernelName": "csharp"
    }
   },
   "outputs": [],
   "source": [
    "#r \"nuget: Microsoft.SemanticKernel, 1.38.0\"\n",
    "#r \"nuget: DotNetEnv, 3.1.1\"\n",
    "\n",
    "using System.IO;\n",
    "using DotNetEnv;\n",
    "using Microsoft.SemanticKernel;\n",
    "using Microsoft.SemanticKernel.ChatCompletion;\n",
    "\n",
    "string configurationFile = \"../config/config.env\";\n",
    "string assetsFolder = \"../assets\";\n",
    "\n",
    "Env.Load(configurationFile);\n",
    "\n",
    "string apiKey = Env.GetString(\"SK_OPENAI_APIKEY\");\n",
    "string endpoint = Env.GetString(\"SK_OPENAI_ENDPOINT\");\n",
    "string chatCompletionDeployment = Env.GetString(\"SK_OPENAI_CHATCOMPLETION_DEPLOYMENT_DEFAULT\");\n",
    "\n",
    "Console.WriteLine($\"Configuration loaded...\");"
   ]
  },
  {
   "cell_type": "markdown",
   "metadata": {},
   "source": [
    "## Create Kernel\n"
   ]
  },
  {
   "cell_type": "code",
   "execution_count": null,
   "metadata": {
    "dotnet_interactive": {
     "language": "csharp"
    },
    "polyglot_notebook": {
     "kernelName": "csharp"
    }
   },
   "outputs": [],
   "source": [
    "Kernel kernel = Kernel.CreateBuilder()\n",
    "    .AddAzureOpenAIChatCompletion(\n",
    "        apiKey: apiKey, \n",
    "        endpoint: endpoint, \n",
    "        deploymentName: chatCompletionDeployment\n",
    "    )\n",
    "    .Build();\n",
    "\n",
    "IChatCompletionService chatCompletionService = kernel.GetRequiredService<IChatCompletionService>();\n",
    "\n",
    "Console.WriteLine($\"Kernel created...\");"
   ]
  },
  {
   "cell_type": "markdown",
   "metadata": {},
   "source": [
    "## Multi Modal Completion"
   ]
  },
  {
   "cell_type": "code",
   "execution_count": null,
   "metadata": {
    "dotnet_interactive": {
     "language": "csharp"
    },
    "polyglot_notebook": {
     "kernelName": "csharp"
    }
   },
   "outputs": [],
   "source": [
    "string systemMessage = \"You describe provided images!\";\n",
    "string prompt = \"Describe the image.\";\n",
    "string imageDataUri = await File.ReadAllTextAsync(Path.Join(assetsFolder, \"ImageCompletion.txt\"));\n",
    "\n",
    "ChatHistory chatHistory = new ChatHistory();\n",
    "chatHistory.AddSystemMessage(systemMessage);\n",
    "\n",
    "ChatMessageContentItemCollection chatMessageContentItemCollection = new ChatMessageContentItemCollection();\n",
    "chatMessageContentItemCollection.Add(new ImageContent(){DataUri = imageDataUri});\n",
    "chatMessageContentItemCollection.Add(new TextContent(){Text = prompt});\n",
    "\n",
    "chatHistory.AddUserMessage(chatMessageContentItemCollection);\n",
    "\n",
    "ChatMessageContent chatMessageContent = await chatCompletionService.GetChatMessageContentAsync(\n",
    "    chatHistory\n",
    ");\n",
    "\n",
    "Console.WriteLine($\"Model response: \\n\\t {chatMessageContent.Content} \");\n"
   ]
  }
 ],
 "metadata": {
  "kernelspec": {
   "display_name": ".NET (C#)",
   "language": "C#",
   "name": ".net-csharp"
  },
  "polyglot_notebook": {
   "kernelInfo": {
    "defaultKernelName": "csharp",
    "items": [
     {
      "aliases": [],
      "languageName": "csharp",
      "name": "csharp"
     }
    ]
   }
  }
 },
 "nbformat": 4,
 "nbformat_minor": 2
}
