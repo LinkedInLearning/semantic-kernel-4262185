{
 "cells": [
  {
   "cell_type": "markdown",
   "metadata": {
    "dotnet_interactive": {
     "language": "csharp"
    },
    "polyglot_notebook": {
     "kernelName": "csharp"
    }
   },
   "source": [
    "# 02 - Prompt Template - File\n",
    "\n",
    "## Create Kernel"
   ]
  },
  {
   "cell_type": "code",
   "execution_count": null,
   "metadata": {
    "dotnet_interactive": {
     "language": "csharp"
    },
    "polyglot_notebook": {
     "kernelName": "csharp"
    }
   },
   "outputs": [
    {
     "data": {
      "text/html": [
       "<div><div></div><div></div><div><strong>Installed Packages</strong><ul><li><span>DotNetEnv, 3.1.1</span></li><li><span>Microsoft.SemanticKernel, 1.38.0</span></li></ul></div></div>"
      ]
     },
     "metadata": {},
     "output_type": "display_data"
    },
    {
     "name": "stdout",
     "output_type": "stream",
     "text": [
      "Configuration loaded...\r\n"
     ]
    }
   ],
   "source": [
    "#r \"nuget: Microsoft.SemanticKernel, 1.38.0\"\n",
    "#r \"nuget: DotNetEnv, 3.1.1\"\n",
    "\n",
    "using DotNetEnv;\n",
    "using System.IO;\n",
    "using Microsoft.SemanticKernel;\n",
    "using Microsoft.SemanticKernel.ChatCompletion;\n",
    "\n",
    "string configurationFile = \"../config/config.env\";\n",
    "\n",
    "Env.Load(configurationFile);\n",
    "\n",
    "string apiKey = Env.GetString(\"SK_OPENAI_APIKEY\");\n",
    "string endpoint = Env.GetString(\"SK_OPENAI_ENDPOINT\");\n",
    "string chatCompletionDeployment = Env.GetString(\"SK_OPENAI_CHATCOMPLETION_DEPLOYMENT_DEFAULT\");\n",
    "\n",
    "Console.WriteLine($\"Configuration loaded...\");\n"
   ]
  },
  {
   "cell_type": "markdown",
   "metadata": {},
   "source": [
    "## Build Kernel\n"
   ]
  },
  {
   "cell_type": "code",
   "execution_count": null,
   "metadata": {
    "dotnet_interactive": {
     "language": "csharp"
    },
    "polyglot_notebook": {
     "kernelName": "csharp"
    }
   },
   "outputs": [
    {
     "name": "stdout",
     "output_type": "stream",
     "text": [
      "Prompt template: ./PromptTemplate/02_01_SimplePrompts referenced ...\n",
      "Kernel created...\n"
     ]
    }
   ],
   "source": [
    "string promptTemplateFolder = \"./PromptTemplate/02_01_SimplePrompts\";\n",
    "string pluginId = \"SportKiosk\";\n",
    "\n",
    "IKernelBuilder kernelBuilder = Kernel.CreateBuilder();\n",
    "    kernelBuilder.AddAzureOpenAIChatCompletion(\n",
    "        apiKey: apiKey, \n",
    "        endpoint: endpoint, \n",
    "        deploymentName: chatCompletionDeployment\n",
    "    );\n",
    "\n",
    "kernelBuilder.Plugins.AddFromPromptDirectory(promptTemplateFolder, pluginId);\n",
    "Kernel kernel = kernelBuilder.Build();\n",
    "\n",
    "Console.WriteLine($\"Prompt template: {promptTemplateFolder} referenced ...\");\n",
    "Console.WriteLine($\"Kernel created...\");"
   ]
  },
  {
   "cell_type": "markdown",
   "metadata": {},
   "source": [
    "## Prompt Template\n",
    "\n",
    "### Simple Execution\n"
   ]
  },
  {
   "cell_type": "code",
   "execution_count": null,
   "metadata": {
    "dotnet_interactive": {
     "language": "csharp"
    },
    "polyglot_notebook": {
     "kernelName": "csharp"
    }
   },
   "outputs": [
    {
     "name": "stdout",
     "output_type": "stream",
     "text": [
      "Model response: \n",
      "\t Munich Flying Dolphins; 30-27\r\n"
     ]
    }
   ],
   "source": [
    "string functionName = \"01_SimplePrompt\";\n",
    "KernelFunction kernelFunction = kernel.Plugins.GetFunction(pluginId, functionName);\n",
    "\n",
    "FunctionResult functionResult = await kernelFunction.InvokeAsync(kernel);\n",
    "Console.WriteLine($\"Model response: \\n\\t {functionResult.GetValue<string>()}\");\n"
   ]
  },
  {
   "cell_type": "markdown",
   "metadata": {},
   "source": [
    "### Parameter\n"
   ]
  },
  {
   "cell_type": "code",
   "execution_count": null,
   "metadata": {
    "dotnet_interactive": {
     "language": "csharp"
    },
    "polyglot_notebook": {
     "kernelName": "csharp"
    }
   },
   "outputs": [
    {
     "name": "stdout",
     "output_type": "stream",
     "text": [
      "Model response: \n",
      "\t Munich Flying Dolphins; 30-27\r\n"
     ]
    }
   ],
   "source": [
    "string functionName = \"02_Variables\";\n",
    "\n",
    "string sportEvent = \"Super Sports Championship 2025\";\n",
    "string winningTeam = \"Munich Flying Dolphins\";\n",
    "string score = \"30-27\";\n",
    "\n",
    "KernelFunction kernelFunction = kernel.Plugins.GetFunction(pluginId, functionName);\n",
    "\n",
    "KernelArguments kernelArguments = new KernelArguments() { \n",
    "    [\"SportEvent\"] = sportEvent,\n",
    "    [\"WinningTeam\"] = winningTeam,\n",
    "    [\"Score\"] = score \n",
    "\n",
    "};\n",
    "\n",
    "FunctionResult functionResult = await kernelFunction.InvokeAsync(kernel, kernelArguments);\n",
    "Console.WriteLine($\"Model response: \\n\\t {functionResult.GetValue<string>()}\"); "
   ]
  }
 ],
 "metadata": {
  "kernelspec": {
   "display_name": ".NET (C#)",
   "language": "C#",
   "name": ".net-csharp"
  },
  "polyglot_notebook": {
   "kernelInfo": {
    "defaultKernelName": "csharp",
    "items": [
     {
      "aliases": [],
      "languageName": "csharp",
      "name": "csharp"
     }
    ]
   }
  }
 },
 "nbformat": 4,
 "nbformat_minor": 2
}
