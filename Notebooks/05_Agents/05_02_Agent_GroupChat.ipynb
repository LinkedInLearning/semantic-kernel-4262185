{
 "cells": [
  {
   "cell_type": "markdown",
   "metadata": {},
   "source": [
    "# 05-02 - Agent Group Chat\n",
    "\n",
    "## Overview \n"
   ]
  },
  {
   "cell_type": "markdown",
   "metadata": {},
   "source": [
    "## Environment"
   ]
  },
  {
   "cell_type": "code",
   "execution_count": null,
   "metadata": {
    "dotnet_interactive": {
     "language": "csharp"
    },
    "polyglot_notebook": {
     "kernelName": "csharp"
    }
   },
   "outputs": [
    {
     "data": {
      "text/html": [
       "<div><div></div><div></div><div><strong>Installed Packages</strong><ul><li><span>DotNetEnv, 3.1.1</span></li><li><span>Microsoft.SemanticKernel, 1.38.0</span></li><li><span>Microsoft.SemanticKernel.Agents.Core, 1.38.0-alpha</span></li><li><span>Microsoft.SemanticKernel.Connectors.OpenAI, 1.38.0</span></li></ul></div></div>"
      ]
     },
     "metadata": {},
     "output_type": "display_data"
    },
    {
     "name": "stdout",
     "output_type": "stream",
     "text": [
      "Configuration loaded...\r\n"
     ]
    }
   ],
   "source": [
    "#r \"nuget: Microsoft.SemanticKernel, 1.38.0\"\n",
    "#r \"nuget: Microsoft.SemanticKernel.Agents.Core, 1.38.0-alpha\"\n",
    "#r \"nuget: Microsoft.SemanticKernel.Connectors.OpenAI, 1.38.0\"\n",
    "#r \"nuget: DotNetEnv, 3.1.1\"\n",
    "\n",
    "using System.IO;\n",
    "using System.ComponentModel;\n",
    "using DotNetEnv;\n",
    "using Microsoft.SemanticKernel;\n",
    "using Microsoft.SemanticKernel.Connectors.OpenAI;\n",
    "using Microsoft.SemanticKernel.Agents;\n",
    "using Microsoft.SemanticKernel.Agents.Chat;\n",
    "using Microsoft.SemanticKernel.ChatCompletion;\n",
    "\n",
    "string configurationFile = \"../config/config.env\";\n",
    "\n",
    "Env.Load(configurationFile);\n",
    "\n",
    "string apiKey = Env.GetString(\"SK_OPENAI_APIKEY\");\n",
    "string endpoint = Env.GetString(\"SK_OPENAI_ENDPOINT\");\n",
    "string chatCompletionDeployment = Env.GetString(\"SK_OPENAI_CHATCOMPLETION_DEPLOYMENT_DEFAULT\");\n",
    "\n",
    "\n",
    "Console.WriteLine($\"Configuration loaded...\");"
   ]
  },
  {
   "cell_type": "markdown",
   "metadata": {},
   "source": [
    "## Plugin Definition"
   ]
  },
  {
   "cell_type": "code",
   "execution_count": null,
   "metadata": {
    "dotnet_interactive": {
     "language": "csharp"
    },
    "polyglot_notebook": {
     "kernelName": "csharp"
    }
   },
   "outputs": [
    {
     "name": "stdout",
     "output_type": "stream",
     "text": [
      "Plugins defined...\r\n"
     ]
    }
   ],
   "source": [
    "public class RetrieveWinner\n",
    "{\n",
    "    [KernelFunction(\"get_sport_event_winner\")]\n",
    "    //Description is just necessary if function name is not self-explanatory\n",
    "    [Description(\"Get the winner of a sport event. The event is identified by the sport event name and the year.\")]\n",
    "    public string GetSportEventWinner(string sportEventName = \"\", string sportEventYear = \"\")\n",
    "    {\n",
    "        // Implement the logic to get the winner of the sport event.\n",
    "        return \"Munich Ice Tiger Flying Dolphins\";\n",
    "    }\n",
    "}\n",
    "\n",
    "public class RetrieveScore\n",
    "{\n",
    "    [KernelFunction(\"get_sport_event_score\")]\n",
    "    //Description is just necessary if function name is cryptic and not self-explanatory\n",
    "    [Description(\"Get the score of a specific sport event. The event is identified by the sport event name and the year.\")]\n",
    "    public string GetSportEventScore(string sportEventName = \"\", string sportEventYear = \"\")\n",
    "    {\n",
    "        // Implement the logic to get the result of the sport event.\n",
    "        return \"24:1\";\n",
    "    }\n",
    "}\n",
    "\n",
    "Console.WriteLine($\"Plugins defined...\")"
   ]
  },
  {
   "cell_type": "markdown",
   "metadata": {},
   "source": [
    "## Agent Definition\n"
   ]
  },
  {
   "cell_type": "code",
   "execution_count": null,
   "metadata": {
    "dotnet_interactive": {
     "language": "csharp"
    },
    "polyglot_notebook": {
     "kernelName": "csharp"
    }
   },
   "outputs": [
    {
     "name": "stdout",
     "output_type": "stream",
     "text": [
      "retrieveWinner Agent created...\n",
      "retrieveScore Agent created...\n"
     ]
    }
   ],
   "source": [
    "#pragma warning disable SKEXP0110, SKEXP0001\n",
    "\n",
    "//Define RetrieveWinner Agent\n",
    "IKernelBuilder retrieveWinnerKernelBuilder = Kernel.CreateBuilder();\n",
    "retrieveWinnerKernelBuilder.AddAzureOpenAIChatCompletion(\n",
    "    apiKey: apiKey, \n",
    "    endpoint: endpoint, \n",
    "    deploymentName: chatCompletionDeployment\n",
    ");\n",
    "retrieveWinnerKernelBuilder.Plugins.AddFromType<RetrieveWinner>(\"RetrieveWinner\");\n",
    "Kernel retrieveWinnerKernel = retrieveWinnerKernelBuilder.Build();\n",
    "\n",
    "string agentName = \"RetrieveWinner\";\n",
    "string agentInstruction = \"You can retrieve the winner of a sport event\";\n",
    "\n",
    "ChatCompletionAgent retrieveWinnerAgent = new ChatCompletionAgent()\n",
    "{\n",
    "    Name = agentName,\n",
    "    Instructions = agentInstruction,\n",
    "    Kernel = retrieveWinnerKernel,\n",
    "    Arguments = new KernelArguments(\n",
    "        new OpenAIPromptExecutionSettings() { \n",
    "            FunctionChoiceBehavior = FunctionChoiceBehavior.Auto()\n",
    "        }\n",
    "    )\n",
    "};\n",
    "\n",
    "//Define retrieveScore Agent\n",
    "IKernelBuilder retrieveScoreKernelBuilder = Kernel.CreateBuilder();\n",
    "retrieveScoreKernelBuilder.AddAzureOpenAIChatCompletion(\n",
    "    apiKey: apiKey, \n",
    "    endpoint: endpoint, \n",
    "    deploymentName: chatCompletionDeployment\n",
    ");\n",
    "retrieveScoreKernelBuilder.Plugins.AddFromType<RetrieveScore>(\"RetrieveScore\");\n",
    "Kernel retrieveScoreKernel = retrieveScoreKernelBuilder.Build();\n",
    "\n",
    "agentName = \"RetrieveScore\";\n",
    "agentInstruction = \"You can retrieve the final score of a sport event\";\n",
    "\n",
    "ChatCompletionAgent retrieveScoreAgent = new ChatCompletionAgent()\n",
    "{\n",
    "    Name = agentName,\n",
    "    Instructions = agentInstruction,\n",
    "    Kernel = retrieveScoreKernel,\n",
    "    Arguments = new KernelArguments(\n",
    "        new OpenAIPromptExecutionSettings() { \n",
    "            FunctionChoiceBehavior = FunctionChoiceBehavior.Auto()\n",
    "        }\n",
    "    )\n",
    "};\n",
    "\n",
    "Console.WriteLine($\"retrieveWinner Agent created...\");\n",
    "Console.WriteLine($\"retrieveScore Agent created...\");"
   ]
  },
  {
   "cell_type": "markdown",
   "metadata": {},
   "source": [
    "## Create Group Chat"
   ]
  },
  {
   "cell_type": "code",
   "execution_count": null,
   "metadata": {
    "dotnet_interactive": {
     "language": "csharp"
    },
    "polyglot_notebook": {
     "kernelName": "csharp"
    }
   },
   "outputs": [
    {
     "name": "stdout",
     "output_type": "stream",
     "text": [
      "AgentGroupChat created...\r\n"
     ]
    }
   ],
   "source": [
    "#pragma warning disable SKEXP0110, SKEXP0001\n",
    "\n",
    "AgentGroupChat agentGroupChat = new AgentGroupChat(retrieveWinnerAgent, retrieveScoreAgent);\n",
    "agentGroupChat.ExecutionSettings = new AgentGroupChatSettings(){\n",
    "    TerminationStrategy = { MaximumIterations = 2 }\n",
    "};\n",
    "\n",
    "Console.WriteLine($\"AgentGroupChat created...\");"
   ]
  },
  {
   "cell_type": "markdown",
   "metadata": {},
   "source": [
    "## Execute Group Chat"
   ]
  },
  {
   "cell_type": "code",
   "execution_count": null,
   "metadata": {
    "dotnet_interactive": {
     "language": "csharp"
    },
    "polyglot_notebook": {
     "kernelName": "csharp"
    }
   },
   "outputs": [
    {
     "name": "stdout",
     "output_type": "stream",
     "text": [
      "The winner of the Super Sports Championship 2025 was the Munich Ice Tiger Flying Dolphins. Unfortunately, the score is not available in the retrieved information.\n",
      "The Munich Ice Tiger Flying Dolphins won the Super Sports Championship 2025 with a score of 24:1.\n"
     ]
    }
   ],
   "source": [
    "#pragma warning disable SKEXP0110\n",
    "\n",
    "string prompt = \"Who won the Super Sports Championship 2025. Return name of the winning team and the score.\";\n",
    "\n",
    "agentGroupChat.AddChatMessage(new ChatMessageContent(AuthorRole.User, prompt));\n",
    "\n",
    "string response = \"\";\n",
    "await foreach (ChatMessageContent chatMessageContent in agentGroupChat.InvokeAsync())\n",
    "{\n",
    "    response = String.Concat(response, chatMessageContent.Content, \"\\n\");\n",
    "    Console.WriteLine(chatMessageContent.Content);\n",
    "}"
   ]
  }
 ],
 "metadata": {
  "kernelspec": {
   "display_name": ".NET (C#)",
   "language": "C#",
   "name": ".net-csharp"
  },
  "polyglot_notebook": {
   "kernelInfo": {
    "defaultKernelName": "csharp",
    "items": [
     {
      "aliases": [],
      "languageName": "csharp",
      "name": "csharp"
     }
    ]
   }
  }
 },
 "nbformat": 4,
 "nbformat_minor": 2
}
