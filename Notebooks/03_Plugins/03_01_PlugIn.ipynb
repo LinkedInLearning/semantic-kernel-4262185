{
 "cells": [
  {
   "cell_type": "markdown",
   "metadata": {},
   "source": [
    "# 03-01 - Plugin\n",
    "\n",
    "## Overview Plugin\n"
   ]
  },
  {
   "cell_type": "markdown",
   "metadata": {},
   "source": [
    "## Environment"
   ]
  },
  {
   "cell_type": "code",
   "execution_count": null,
   "metadata": {
    "dotnet_interactive": {
     "language": "csharp"
    },
    "polyglot_notebook": {
     "kernelName": "csharp"
    }
   },
   "outputs": [
    {
     "data": {
      "text/html": [
       "<div><div></div><div></div><div><strong>Installed Packages</strong><ul><li><span>DotNetEnv, 3.1.1</span></li><li><span>Microsoft.SemanticKernel, 1.38.0</span></li></ul></div></div>"
      ]
     },
     "metadata": {},
     "output_type": "display_data"
    },
    {
     "name": "stdout",
     "output_type": "stream",
     "text": [
      "Configuration loaded...\r\n"
     ]
    }
   ],
   "source": [
    "#r \"nuget: Microsoft.SemanticKernel, 1.38.0\"\n",
    "#r \"nuget: DotNetEnv, 3.1.1\"\n",
    "\n",
    "using System.IO;\n",
    "using System.ComponentModel;\n",
    "using DotNetEnv;\n",
    "using Microsoft.SemanticKernel;\n",
    "using Microsoft.SemanticKernel.ChatCompletion;\n",
    "\n",
    "string configurationFile = \"../config/config.env\";\n",
    "\n",
    "Env.Load(configurationFile);\n",
    "\n",
    "string apiKey = Env.GetString(\"SK_OPENAI_APIKEY\");\n",
    "string endpoint = Env.GetString(\"SK_OPENAI_ENDPOINT\");\n",
    "string chatCompletionDeployment = Env.GetString(\"SK_OPENAI_CHATCOMPLETION_DEPLOYMENT_DEFAULT\");\n",
    "\n",
    "Console.WriteLine($\"Configuration loaded...\");"
   ]
  },
  {
   "cell_type": "markdown",
   "metadata": {},
   "source": [
    "## Define Plugin Functionality"
   ]
  },
  {
   "cell_type": "code",
   "execution_count": null,
   "metadata": {
    "dotnet_interactive": {
     "language": "csharp"
    },
    "polyglot_notebook": {
     "kernelName": "csharp"
    }
   },
   "outputs": [
    {
     "name": "stdout",
     "output_type": "stream",
     "text": [
      "Code library defined...\r\n"
     ]
    }
   ],
   "source": [
    "class CodeLibrary\n",
    "{\n",
    "    [KernelFunction(\"get_sport_event_winner\")]\n",
    "    //Description is just necessary if function name is not self-explanatory\n",
    "    [Description(\"Get the winner of a sport event. The event is identified by the sport event name and the year.\")]\n",
    "    public string GetSportEventWinner(string sportEventName = \"\", string sportEventYear = \"\")\n",
    "    {\n",
    "        // Implement the logic to get the winner of the sport event.\n",
    "        return \"Munich Flying Dolphins\";\n",
    "    }\n",
    "\n",
    "    [KernelFunction(\"get_sport_event_score\")]\n",
    "    //Description is just necessary if function name is cryptic and not self-explanatory\n",
    "    [Description(\"Get the score of a specific sport event. The event is identified by the sport event name and the year.\")]\n",
    "    public string GetSportEventScore(string sportEventName = \"\", string sportEventYear = \"\")\n",
    "    {\n",
    "        // Implement the logic to get the result of the sport event.\n",
    "        return \"30-27\";\n",
    "    }\n",
    "\n",
    "    [KernelFunction(\"GetData\")]\n",
    "    [Description(\"Get the score and winner of a specific sport event.\")]\n",
    "    \n",
    "    public string GetData(){\n",
    "        return \"Munich Flying Dolphins won 30-27\";\n",
    "    }\n",
    "\n",
    "}\n",
    "\n",
    "Console.WriteLine($\"Code library defined...\");"
   ]
  },
  {
   "cell_type": "markdown",
   "metadata": {},
   "source": [
    "## Define KernelBuilder\n"
   ]
  },
  {
   "cell_type": "code",
   "execution_count": null,
   "metadata": {
    "dotnet_interactive": {
     "language": "csharp"
    },
    "polyglot_notebook": {
     "kernelName": "csharp"
    }
   },
   "outputs": [
    {
     "name": "stdout",
     "output_type": "stream",
     "text": [
      "KernelBuilder created...\r\n"
     ]
    }
   ],
   "source": [
    "IKernelBuilder kernelBuilder = Kernel.CreateBuilder();\n",
    "\n",
    "kernelBuilder.AddAzureOpenAIChatCompletion(\n",
    "    apiKey: apiKey, \n",
    "    endpoint: endpoint, \n",
    "    deploymentName: chatCompletionDeployment\n",
    ");\n",
    "   \n",
    "Console.WriteLine($\"KernelBuilder created...\");"
   ]
  },
  {
   "cell_type": "markdown",
   "metadata": {},
   "source": [
    "## Plugin (Whole Class)"
   ]
  },
  {
   "cell_type": "code",
   "execution_count": null,
   "metadata": {
    "dotnet_interactive": {
     "language": "csharp"
    },
    "polyglot_notebook": {
     "kernelName": "csharp"
    }
   },
   "outputs": [
    {
     "name": "stdout",
     "output_type": "stream",
     "text": [
      "The winner of the Super Sports Championship 2025 was the Munich Flying Dolphins, with a score of 30-27.\r\n"
     ]
    }
   ],
   "source": [
    "kernelBuilder.Plugins.AddFromType<CodeLibrary>(\"CodeLibrary\");\n",
    "Kernel kernel = kernelBuilder.Build(); \n",
    "\n",
    "IChatCompletionService chatCompletionService = kernel.GetRequiredService<IChatCompletionService>();\n",
    "\n",
    "string prompt = \"Who won the Super Sports Championship 2025. Return team name and score.\";\n",
    "ChatHistory chatHistory = new ChatHistory();\n",
    "chatHistory.AddUserMessage(prompt);\n",
    "\n",
    "PromptExecutionSettings  promptExecutionSettings = new PromptExecutionSettings();\n",
    "promptExecutionSettings.FunctionChoiceBehavior = FunctionChoiceBehavior.Auto();\n",
    "\n",
    "ChatMessageContent chatMessageContent = await chatCompletionService.GetChatMessageContentAsync(\n",
    "    chatHistory: chatHistory, \n",
    "    executionSettings: promptExecutionSettings,\n",
    "    kernel: kernel\n",
    ");\n",
    "\n",
    "Console.WriteLine($\"{chatMessageContent.Content}\");\n"
   ]
  },
  {
   "cell_type": "markdown",
   "metadata": {},
   "source": [
    "## Plugin (Prompt Template)\n",
    "\n",
    "Prompt Template is executing other Plugin Functions"
   ]
  },
  {
   "cell_type": "code",
   "execution_count": null,
   "metadata": {
    "dotnet_interactive": {
     "language": "csharp"
    },
    "polyglot_notebook": {
     "kernelName": "csharp"
    }
   },
   "outputs": [
    {
     "name": "stdout",
     "output_type": "stream",
     "text": [
      "The Munich Flying Dolphins won the Super Sports Championship in 2025 with a score of 30-27.\r\n"
     ]
    }
   ],
   "source": [
    "string promptDirectory = \"./PromptTemplate/03_01_PlugIn\";\n",
    "\n",
    "string sportEvent = \"Super Sports Championship\";\n",
    "string sportYear = \"2025\";\n",
    "\n",
    "kernelBuilder.Plugins.AddFromPromptDirectory(promptDirectory, \"SportEvents\");\n",
    "Kernel kernel = kernelBuilder.Build();\n",
    "\n",
    "KernelFunction kernelFunction = kernel.Plugins.GetFunction(\"SportEvents\", \"GetSportEventResult\");\n",
    "KernelArguments kernelArguments = new KernelArguments() { \n",
    "    [\"SportEventName\"] = sportEvent,\n",
    "    [\"SportEventYear\"] = sportYear\n",
    "\n",
    "};\n",
    "FunctionResult functionResult = await kernelFunction.InvokeAsync(kernel, kernelArguments);\n",
    "\n",
    "Console.WriteLine($\"{functionResult.GetValue<string>()}\"); "
   ]
  }
 ],
 "metadata": {
  "kernelspec": {
   "display_name": ".NET (C#)",
   "language": "C#",
   "name": ".net-csharp"
  },
  "polyglot_notebook": {
   "kernelInfo": {
    "defaultKernelName": "csharp",
    "items": [
     {
      "aliases": [],
      "languageName": "csharp",
      "name": "csharp"
     }
    ]
   }
  }
 },
 "nbformat": 4,
 "nbformat_minor": 2
}
