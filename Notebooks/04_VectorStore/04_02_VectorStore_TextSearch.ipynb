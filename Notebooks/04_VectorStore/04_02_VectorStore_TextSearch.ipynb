{
 "cells": [
  {
   "cell_type": "markdown",
   "metadata": {},
   "source": [
    "# 04-01 - Vector Store - Text Search\n",
    "\n",
    "## Overview \n"
   ]
  },
  {
   "cell_type": "markdown",
   "metadata": {},
   "source": [
    "## Environment"
   ]
  },
  {
   "cell_type": "code",
   "execution_count": null,
   "metadata": {
    "dotnet_interactive": {
     "language": "csharp"
    },
    "polyglot_notebook": {
     "kernelName": "csharp"
    }
   },
   "outputs": [],
   "source": [
    "#r \"nuget: Microsoft.SemanticKernel, 1.38.0\"\n",
    "#r \"nuget: Microsoft.SemanticKernel.Connectors.InMemory, 1.38.0-preview\"\n",
    "#r \"nuget: DotNetEnv, 3.1.1\"\n",
    "\n",
    "using System.IO;\n",
    "using System.ClientModel;\n",
    "using System.ComponentModel;\n",
    "using DotNetEnv;\n",
    "using Microsoft.Extensions.VectorData;\n",
    "using Microsoft.SemanticKernel;\n",
    "using Microsoft.SemanticKernel.Data;\n",
    "using Microsoft.SemanticKernel.Embeddings;\n",
    "using Microsoft.SemanticKernel.Connectors.InMemory;\n",
    "\n",
    "string configurationFile = \"../config/config.env\";\n",
    "\n",
    "Env.Load(configurationFile);\n",
    "\n",
    "string apiKey = Env.GetString(\"SK_OPENAI_APIKEY\");\n",
    "string endpoint = Env.GetString(\"SK_OPENAI_ENDPOINT\");\n",
    "string embeddingDeployment = Env.GetString(\"SK_OPENAI_EMBEDDING_DEPLOYMENT\");\n",
    "\n",
    "Console.WriteLine($\"Configuration loaded...\");"
   ]
  },
  {
   "cell_type": "markdown",
   "metadata": {},
   "source": [
    "## Kernel\n"
   ]
  },
  {
   "cell_type": "code",
   "execution_count": null,
   "metadata": {
    "dotnet_interactive": {
     "language": "csharp"
    },
    "polyglot_notebook": {
     "kernelName": "csharp"
    }
   },
   "outputs": [],
   "source": [
    "#pragma warning disable SKEXP0001, SKEXP0010 \n",
    "\n",
    "Kernel kernel = Kernel.CreateBuilder()\n",
    "    .AddAzureOpenAITextEmbeddingGeneration(\n",
    "        apiKey: apiKey, \n",
    "        endpoint: endpoint, \n",
    "        deploymentName: embeddingDeployment\n",
    "    )\n",
    ".Build();\n",
    "\n",
    "Console.WriteLine($\"Kernel created...\");"
   ]
  },
  {
   "cell_type": "markdown",
   "metadata": {},
   "source": [
    "## Define Storage Model"
   ]
  },
  {
   "cell_type": "code",
   "execution_count": null,
   "metadata": {
    "dotnet_interactive": {
     "language": "csharp"
    },
    "polyglot_notebook": {
     "kernelName": "csharp"
    }
   },
   "outputs": [],
   "source": [
    "public sealed class DataStorageModel\n",
    "{\n",
    "    #pragma warning disable SKEXP0001\n",
    "    [VectorStoreRecordKey]\n",
    "    [TextSearchResultName]\n",
    "    public Guid Key { get; init; }\n",
    "\n",
    "    [VectorStoreRecordData]\n",
    "    [TextSearchResultValue]\n",
    "    public string Text { get; init; } = \"Empty Record - No Data\"; \n",
    "\n",
    "    [VectorStoreRecordVector(3072)]\n",
    "    public ReadOnlyMemory<float> Embedding { get; init; }\n",
    "    \n",
    "    [TextSearchResultLink]\n",
    "    public string Link {get; set;} = \"\";\n",
    "    #pragma warning restore SKEXP0001\n",
    "}\n",
    "\n",
    "Console.WriteLine($\"DataStorageModel defined...\");"
   ]
  },
  {
   "cell_type": "markdown",
   "metadata": {},
   "source": [
    "## Create Vector Store"
   ]
  },
  {
   "cell_type": "code",
   "execution_count": null,
   "metadata": {
    "dotnet_interactive": {
     "language": "csharp"
    },
    "polyglot_notebook": {
     "kernelName": "csharp"
    }
   },
   "outputs": [],
   "source": [
    "#pragma warning disable SKEXP0001, SKEXP0010 \n",
    "\n",
    "ITextEmbeddingGenerationService textEmbeddingGenerationService = kernel.GetRequiredService<ITextEmbeddingGenerationService>();\n",
    "\n",
    "string[] textData = new string[]\n",
    "{\n",
    "    \"The Super Sports Championship is an exhilarating physics competition where developers answer multiple questions, earning 10 points for each correct answer, with the first team to reach 50 points emerging victorious.\",\n",
    "    \"The Super Bowl is the annual championship game of the National Football League (NFL) and one of the biggest sporting events in the United States.\",\n",
    "    \"Semantic Kernel is a lightweight, open-source development kit that allows developers to easily integrate the latest AI models into their C#, Python, or Java codebase.\"\n",
    "};\n",
    "\n",
    "IList<ReadOnlyMemory<float>> vectorData = \n",
    "    await textEmbeddingGenerationService.GenerateEmbeddingsAsync(textData);\n",
    "\n",
    "InMemoryVectorStore inMemoryStore = new InMemoryVectorStore();\n",
    "string collectionName = \"SportEventsKnowHow\";\n",
    "\n",
    "IVectorStoreRecordCollection<Guid, DataStorageModel> recordCollection = \n",
    "    inMemoryStore.GetCollection<Guid, DataStorageModel>(collectionName);\n",
    "await recordCollection.CreateCollectionIfNotExistsAsync();\n",
    "\n",
    "List<DataStorageModel> dataStorageRecords = textData\n",
    "    .Select((text, index) => \n",
    "    {\n",
    "        var key = Guid.NewGuid();\n",
    "        return new DataStorageModel\n",
    "        {\n",
    "            Key = key,\n",
    "            Text = text,\n",
    "            Embedding = vectorData[index],\n",
    "            Link = $\"data:citation/text;{key}\"\n",
    "        };\n",
    "    })\n",
    "    .ToList();\n",
    "\n",
    "Console.WriteLine($\"DataStorageRecords created: \");\n",
    "await foreach(Guid recordGuid in recordCollection.UpsertBatchAsync(dataStorageRecords))\n",
    "{\n",
    "    Console.WriteLine($\"\\t{recordGuid}\");\n",
    "} "
   ]
  },
  {
   "cell_type": "markdown",
   "metadata": {},
   "source": [
    "## Query Vector Store"
   ]
  },
  {
   "cell_type": "code",
   "execution_count": null,
   "metadata": {
    "dotnet_interactive": {
     "language": "csharp"
    },
    "polyglot_notebook": {
     "kernelName": "csharp"
    }
   },
   "outputs": [],
   "source": [
    "#pragma warning disable SKEXP0001, SKEXP0010\n",
    "VectorStoreTextSearch<DataStorageModel> textSearch = \n",
    "    new VectorStoreTextSearch<DataStorageModel>(recordCollection, textEmbeddingGenerationService);\n",
    "\n",
    "\n",
    "string query = \"What is the Super Sports Championship\";\n",
    "// simple string as search result\n",
    "KernelSearchResults<string> simpleResponse = await textSearch.SearchAsync(query, new() { Top = 1, Skip = 0 });\n",
    "await foreach (var result in simpleResponse.Results)\n",
    "{\n",
    "    Console.WriteLine($\"SearchAsync(): {result}\");\n",
    "}\n",
    "\n",
    "\n",
    "// text search result as search result\n",
    "KernelSearchResults<TextSearchResult> textSearchResults = await textSearch.GetTextSearchResultsAsync(query, new() { Top = 1, Skip = 0 });\n",
    "await foreach (var result in textSearchResults.Results)\n",
    "{\n",
    "    Console.WriteLine($\"GetTextSearchResultsAsync(): Link: {result.Link}, Name: {result.Name}, Value: {result.Value}\");\n",
    "}\n",
    "\n",
    "// full data storage model as search result\n",
    "KernelSearchResults<object> fullResults = await textSearch.GetSearchResultsAsync(query, new() { Top = 1, Skip = 0 });\n",
    "await foreach (var result in fullResults.Results)\n",
    "{\n",
    "    DataStorageModel dataStorageModelResponse = result as DataStorageModel ?? new DataStorageModel(); \n",
    "    Console.WriteLine($\"GetSearchResultsAsync(): Key: {dataStorageModelResponse.Key}, Text: {dataStorageModelResponse.Text}, Link: {dataStorageModelResponse.Link}\");\n",
    "}\n"
   ]
  }
 ],
 "metadata": {
  "kernelspec": {
   "display_name": ".NET (C#)",
   "language": "C#",
   "name": ".net-csharp"
  },
  "polyglot_notebook": {
   "kernelInfo": {
    "defaultKernelName": "csharp",
    "items": [
     {
      "aliases": [],
      "languageName": "csharp",
      "name": "csharp"
     }
    ]
   }
  }
 },
 "nbformat": 4,
 "nbformat_minor": 2
}
