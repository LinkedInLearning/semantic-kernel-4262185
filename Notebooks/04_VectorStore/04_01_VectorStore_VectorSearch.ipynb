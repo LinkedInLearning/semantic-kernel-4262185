{
 "cells": [
  {
   "cell_type": "markdown",
   "metadata": {},
   "source": [
    "# 04-01 - Vector Store - Vector Search\n",
    "\n",
    "## Overview \n"
   ]
  },
  {
   "cell_type": "markdown",
   "metadata": {},
   "source": [
    "## Environment"
   ]
  },
  {
   "cell_type": "code",
   "execution_count": null,
   "metadata": {
    "dotnet_interactive": {
     "language": "csharp"
    },
    "polyglot_notebook": {
     "kernelName": "csharp"
    }
   },
   "outputs": [
    {
     "data": {
      "text/html": [
       "<div><div></div><div></div><div><strong>Installed Packages</strong><ul><li><span>DotNetEnv, 3.1.1</span></li><li><span>Microsoft.SemanticKernel, 1.38.0</span></li><li><span>Microsoft.SemanticKernel.Connectors.InMemory, 1.38.0-preview</span></li></ul></div></div>"
      ]
     },
     "metadata": {},
     "output_type": "display_data"
    },
    {
     "name": "stdout",
     "output_type": "stream",
     "text": [
      "Configuration loaded...\r\n"
     ]
    }
   ],
   "source": [
    "#r \"nuget: Microsoft.SemanticKernel, 1.38.0\"\n",
    "#r \"nuget: Microsoft.SemanticKernel.Connectors.InMemory, 1.38.0-preview\"\n",
    "#r \"nuget: DotNetEnv, 3.1.1\"\n",
    "\n",
    "using System.IO;\n",
    "using System.ClientModel;\n",
    "using System.ComponentModel;\n",
    "using DotNetEnv;\n",
    "using Microsoft.Extensions.VectorData;\n",
    "using Microsoft.SemanticKernel;\n",
    "using Microsoft.SemanticKernel.Data;\n",
    "using Microsoft.SemanticKernel.Embeddings;\n",
    "using Microsoft.SemanticKernel.Connectors.InMemory;\n",
    "\n",
    "string configurationFile = \"../config/config.env\";\n",
    "\n",
    "Env.Load(configurationFile);\n",
    "\n",
    "string apiKey = Env.GetString(\"SK_OPENAI_APIKEY\");\n",
    "string endpoint = Env.GetString(\"SK_OPENAI_ENDPOINT\");\n",
    "string embeddingDeployment = Env.GetString(\"SK_OPENAI_EMBEDDING_DEPLOYMENT\");\n",
    "\n",
    "Console.WriteLine($\"Configuration loaded...\");"
   ]
  },
  {
   "cell_type": "markdown",
   "metadata": {},
   "source": [
    "## Kernel\n"
   ]
  },
  {
   "cell_type": "code",
   "execution_count": null,
   "metadata": {
    "dotnet_interactive": {
     "language": "csharp"
    },
    "polyglot_notebook": {
     "kernelName": "csharp"
    }
   },
   "outputs": [
    {
     "name": "stdout",
     "output_type": "stream",
     "text": [
      "Kernel created...\r\n"
     ]
    }
   ],
   "source": [
    "#pragma warning disable SKEXP0001, SKEXP0010 \n",
    "\n",
    "Kernel kernel = Kernel.CreateBuilder()\n",
    "    .AddAzureOpenAITextEmbeddingGeneration(\n",
    "        apiKey: apiKey, \n",
    "        endpoint: endpoint, \n",
    "        deploymentName: embeddingDeployment\n",
    "    )\n",
    ".Build();\n",
    "\n",
    "Console.WriteLine($\"Kernel created...\");"
   ]
  },
  {
   "cell_type": "markdown",
   "metadata": {},
   "source": [
    "## Define Storage Model"
   ]
  },
  {
   "cell_type": "code",
   "execution_count": null,
   "metadata": {
    "dotnet_interactive": {
     "language": "csharp"
    },
    "polyglot_notebook": {
     "kernelName": "csharp"
    }
   },
   "outputs": [
    {
     "name": "stdout",
     "output_type": "stream",
     "text": [
      "DataStorageModel defined...\r\n"
     ]
    }
   ],
   "source": [
    "public sealed class DataStorageModel\n",
    "{\n",
    "    #pragma warning disable SKEXP0001\n",
    "    [VectorStoreRecordKey]\n",
    "    [TextSearchResultName]\n",
    "    public Guid Key { get; init; }\n",
    "\n",
    "    [VectorStoreRecordData]\n",
    "    [TextSearchResultValue]\n",
    "    public string Text { get; init; } = \"Empty Record - No Data\"; \n",
    "\n",
    "    [VectorStoreRecordVector(3072)]\n",
    "    public ReadOnlyMemory<float> Embedding { get; init; }\n",
    "    \n",
    "    [TextSearchResultLink]\n",
    "    public string Link {get; set;} = \"\";\n",
    "    #pragma warning restore SKEXP0001\n",
    "}\n",
    "\n",
    "Console.WriteLine($\"DataStorageModel defined...\");"
   ]
  },
  {
   "cell_type": "markdown",
   "metadata": {},
   "source": [
    "## Create Vector Store"
   ]
  },
  {
   "cell_type": "code",
   "execution_count": null,
   "metadata": {
    "dotnet_interactive": {
     "language": "csharp"
    },
    "polyglot_notebook": {
     "kernelName": "csharp"
    }
   },
   "outputs": [
    {
     "name": "stdout",
     "output_type": "stream",
     "text": [
      "DataStorageRecords created: \n",
      "\t37a1815f-0bf2-49ae-a217-cd6c0d5f69ee\n",
      "\tc7c7cd48-a04c-4bfa-a078-546800213d76\n",
      "\t123ac2af-c71c-4e68-98eb-827782321a19\n"
     ]
    }
   ],
   "source": [
    "#pragma warning disable SKEXP0001, SKEXP0010 \n",
    "\n",
    "ITextEmbeddingGenerationService textEmbeddingGenerationService = kernel.GetRequiredService<ITextEmbeddingGenerationService>();\n",
    "\n",
    "string[] textData = new string[]\n",
    "{\n",
    "    \"The Super Sports Championship is an exhilarating physics competition where developers answer multiple questions, earning 10 points for each correct answer, with the first team to reach 50 points emerging victorious.\",\n",
    "    \"The Super Bowl is the annual championship game of the National Football League (NFL) and one of the biggest sporting events in the United States.\",\n",
    "    \"Semantic Kernel is a lightweight, open-source development kit that allows developers to easily integrate the latest AI models into their C#, Python, or Java codebase.\"\n",
    "};\n",
    "\n",
    "IList<ReadOnlyMemory<float>> vectorData = \n",
    "    await textEmbeddingGenerationService.GenerateEmbeddingsAsync(textData);\n",
    "\n",
    "InMemoryVectorStore inMemoryStore = new InMemoryVectorStore();\n",
    "string collectionName = \"SportEventsKnowHow\";\n",
    "\n",
    "IVectorStoreRecordCollection<Guid, DataStorageModel> recordCollection = \n",
    "    inMemoryStore.GetCollection<Guid, DataStorageModel>(collectionName);\n",
    "await recordCollection.CreateCollectionIfNotExistsAsync();\n",
    "\n",
    "List<DataStorageModel> dataStorageRecords = textData\n",
    "    .Select((text, index) => \n",
    "    {\n",
    "        var key = Guid.NewGuid();\n",
    "        return new DataStorageModel\n",
    "        {\n",
    "            Key = key,\n",
    "            Text = text,\n",
    "            Embedding = vectorData[index],\n",
    "            Link = $\"data:citation/text;{key}\"\n",
    "        };\n",
    "    })\n",
    "    .ToList();\n",
    "\n",
    "Console.WriteLine($\"DataStorageRecords created: \");\n",
    "await foreach(Guid recordGuid in recordCollection.UpsertBatchAsync(dataStorageRecords))\n",
    "{\n",
    "    Console.WriteLine($\"\\t{recordGuid}\");\n",
    "} "
   ]
  },
  {
   "cell_type": "markdown",
   "metadata": {},
   "source": [
    "## Query Vector Store"
   ]
  },
  {
   "cell_type": "code",
   "execution_count": null,
   "metadata": {
    "dotnet_interactive": {
     "language": "csharp"
    },
    "polyglot_notebook": {
     "kernelName": "csharp"
    }
   },
   "outputs": [
    {
     "name": "stdout",
     "output_type": "stream",
     "text": [
      "Score: 0.7257648706436157 \n",
      "Text: The Super Sports Championship is an exhilarating physics competition where developers answer multiple questions, earning 10 points for each correct answer, with the first team to reach 50 points emerging victorious. \n",
      "Citation: data:citation/text;37a1815f-0bf2-49ae-a217-cd6c0d5f69ee \n",
      "\n",
      "Score: 0.4804094731807709 \n",
      "Text: The Super Bowl is the annual championship game of the National Football League (NFL) and one of the biggest sporting events in the United States. \n",
      "Citation: data:citation/text;c7c7cd48-a04c-4bfa-a078-546800213d76 \n",
      "\n",
      "Score: 0.11162253469228745 \n",
      "Text: Semantic Kernel is a lightweight, open-source development kit that allows developers to easily integrate the latest AI models into their C#, Python, or Java codebase. \n",
      "Citation: data:citation/text;123ac2af-c71c-4e68-98eb-827782321a19 \n",
      "\n",
      "Search completed...\n"
     ]
    }
   ],
   "source": [
    "IList<ReadOnlyMemory<float>> searchVector = await textEmbeddingGenerationService.GenerateEmbeddingsAsync(new string[] { \n",
    "    \"What is the Super Sports Championship\"\n",
    "});\n",
    "\n",
    "VectorSearchOptions vectorSearchOptions = new VectorSearchOptions(){ \n",
    "    Top = 3\n",
    "};\n",
    "\n",
    "VectorSearchResults<DataStorageModel> vectorSearchResult = await recordCollection.VectorizedSearchAsync(\n",
    "    searchVector[0],\n",
    "    vectorSearchOptions\n",
    ");\n",
    "\n",
    "IAsyncEnumerator<VectorSearchResult<DataStorageModel>> resultsList = vectorSearchResult.Results.GetAsyncEnumerator();\n",
    "while (await resultsList.MoveNextAsync())\n",
    "{\n",
    "    Console.WriteLine($\"Score: {resultsList.Current.Score} \\nText: {resultsList.Current.Record.Text} \\nCitation: {resultsList.Current.Record.Link} \\n\");\n",
    "}\n",
    "\n",
    "Console.WriteLine($\"Search completed...\");\n",
    "\n"
   ]
  }
 ],
 "metadata": {
  "kernelspec": {
   "display_name": ".NET (C#)",
   "language": "C#",
   "name": ".net-csharp"
  },
  "polyglot_notebook": {
   "kernelInfo": {
    "defaultKernelName": "csharp",
    "items": [
     {
      "aliases": [],
      "languageName": "csharp",
      "name": "csharp"
     }
    ]
   }
  }
 },
 "nbformat": 4,
 "nbformat_minor": 2
}
