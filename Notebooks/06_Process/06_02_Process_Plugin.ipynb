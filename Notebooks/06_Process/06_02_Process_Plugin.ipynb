{
 "cells": [
  {
   "cell_type": "markdown",
   "metadata": {},
   "source": [
    "# 06-02 - Process - Plugin\n",
    "\n",
    "## Environment"
   ]
  },
  {
   "cell_type": "code",
   "execution_count": 1,
   "metadata": {
    "dotnet_interactive": {
     "language": "csharp"
    },
    "polyglot_notebook": {
     "kernelName": "csharp"
    }
   },
   "outputs": [
    {
     "data": {
      "text/html": [
       "<div><div></div><div></div><div><strong>Installed Packages</strong><ul><li><span>DotNetEnv, 3.1.1</span></li><li><span>Microsoft.SemanticKernel, 1.38.0</span></li><li><span>Microsoft.SemanticKernel.Process.Core, 1.38.0-alpha</span></li><li><span>Microsoft.SemanticKernel.Process.LocalRuntime, 1.38.0-alpha</span></li></ul></div></div>"
      ]
     },
     "metadata": {},
     "output_type": "display_data"
    },
    {
     "name": "stdout",
     "output_type": "stream",
     "text": [
      "Configuration loaded...\r\n"
     ]
    }
   ],
   "source": [
    "#r \"nuget: Microsoft.SemanticKernel, 1.38.0\"\n",
    "#r \"nuget: Microsoft.SemanticKernel.Process.Core, 1.38.0-alpha\"\n",
    "#r \"nuget: Microsoft.SemanticKernel.Process.LocalRuntime, 1.38.0-alpha\"\n",
    "#r \"nuget: DotNetEnv, 3.1.1\"\n",
    "\n",
    "using System.ClientModel; \n",
    "using System.ComponentModel;\n",
    "using Microsoft.Extensions.DependencyInjection;\n",
    "using Microsoft.SemanticKernel;\n",
    "using Microsoft.SemanticKernel.ChatCompletion;\n",
    "using Microsoft.SemanticKernel.Process;\n",
    "using DotNetEnv;\n",
    "\n",
    "string configurationFile = \"../config/config.env\";\n",
    "\n",
    "Env.Load(configurationFile);\n",
    "\n",
    "public class Configuration {\n",
    "    public string ApiKey { get; set; } = Env.GetString(\"SK_OPENAI_APIKEY\");\n",
    "    public string Endpoint { get; set; } = Env.GetString(\"SK_OPENAI_ENDPOINT\");\n",
    "    public string ChatCompletionDeploymentDefault { get; set; } = Env.GetString(\"SK_OPENAI_CHATCOMPLETION_DEPLOYMENT_DEFAULT\");\n",
    "}\n",
    "\n",
    "Console.WriteLine($\"Configuration loaded...\");"
   ]
  },
  {
   "cell_type": "markdown",
   "metadata": {},
   "source": [
    "## Define Process Step Functionality\n"
   ]
  },
  {
   "cell_type": "code",
   "execution_count": 2,
   "metadata": {
    "dotnet_interactive": {
     "language": "csharp"
    },
    "polyglot_notebook": {
     "kernelName": "csharp"
    }
   },
   "outputs": [
    {
     "name": "stdout",
     "output_type": "stream",
     "text": [
      "'RetrieveWinnerProcessStep' defined...\r\n"
     ]
    }
   ],
   "source": [
    "#pragma warning disable SKEXP0080\n",
    "\n",
    "public class RetrieveWinnerProcessStep : KernelProcessStep\n",
    "{\n",
    "    public class RetrieveWinner : KernelProcessStep\n",
    "    {\n",
    "        [KernelFunction(\"get_sport_event_winner\")]\n",
    "        [Description(\"Get the winner of a sport event. The event is identified by the sport event name and the year.\")]\n",
    "        public string GetSportEventWinner(string sportEventName = \"\", string sportEventYear = \"\")\n",
    "        {\n",
    "            \n",
    "            Console.WriteLine($\"\\tPlugin: 'GetSportEventWinner({sportEventName}, {sportEventYear})' called...\");\n",
    "            Console.WriteLine($\"\\tPlugin: 'GetSportEventWinner({sportEventName}, {sportEventYear})' returning 'Munich Flying Dolphins'...\");\n",
    "            \n",
    "            // Implement the logic to get the winner of the sport event.\n",
    "            return \"Munich Flying Dolphins\";\n",
    "        }\n",
    "    }\n",
    "\n",
    "\n",
    "    [KernelFunction]\n",
    "    public async Task<string> QueryForWinner(Kernel kernel, string sportEventName)\n",
    "    {\n",
    "        Console.WriteLine($\"\\n'QueryForWinner({sportEventName}) called...\");\n",
    "        \n",
    "        IChatCompletionService chatCompletionService = kernel.GetRequiredService<IChatCompletionService>();\n",
    "\n",
    "        string prompt = @$\"\n",
    "            Who won the {sportEventName}? \n",
    "            Just return the name of the winning team.\n",
    "        \";\n",
    "        ChatHistory chatHistory = new ChatHistory();\n",
    "        chatHistory.AddUserMessage(prompt);\n",
    "        \n",
    "        kernel.Plugins.Clear();\n",
    "        kernel.Plugins.AddFromType<RetrieveWinner>(\"RetrieveWinner\");\n",
    "\n",
    "        KernelFunction getSportEventWinner = kernel.Plugins.GetFunction(\"RetrieveWinner\", \"get_sport_event_winner\");\n",
    "        PromptExecutionSettings promptExecutionSettings = new PromptExecutionSettings() {\n",
    "            FunctionChoiceBehavior = FunctionChoiceBehavior.Required(\n",
    "                new List<KernelFunction>() { getSportEventWinner }  \n",
    "            )\n",
    "        };\n",
    "        promptExecutionSettings.FunctionChoiceBehavior = FunctionChoiceBehavior.Auto();\n",
    "        \n",
    "        Console.WriteLine($\"\\t'ChatCompletionService' called...\");\n",
    "        ChatMessageContent chatMessageContent = await chatCompletionService.GetChatMessageContentAsync(\n",
    "            chatHistory: chatHistory, \n",
    "            executionSettings: promptExecutionSettings,\n",
    "            kernel: kernel\n",
    "        );\n",
    "\n",
    "        Console.WriteLine($\"\\t'ChatCompletionService' returned {chatMessageContent.Content}...\");\n",
    "        return $\"Winner: {chatMessageContent.Content ?? \"\"} - Event: {sportEventName}\";\n",
    "    }\n",
    " \n",
    "}\n",
    "\n",
    "Console.WriteLine($\"'RetrieveWinnerProcessStep' defined...\");"
   ]
  },
  {
   "cell_type": "code",
   "execution_count": 3,
   "metadata": {
    "dotnet_interactive": {
     "language": "csharp"
    },
    "polyglot_notebook": {
     "kernelName": "csharp"
    }
   },
   "outputs": [
    {
     "name": "stdout",
     "output_type": "stream",
     "text": [
      "'RetrieveScoreProcessStep' definied...\r\n"
     ]
    }
   ],
   "source": [
    "#pragma warning disable SKEXP0080\n",
    "\n",
    "public class RetrieveScoreProcessStep : KernelProcessStep\n",
    "{\n",
    "\n",
    "    public class RetrieveScore\n",
    "    {\n",
    "        [KernelFunction(\"get_sport_event_score\")]\n",
    "        //Description is just necessary if function name is cryptic and not self-explanatory\n",
    "        [Description(\"Get the score of a specific sport event. The event is identified by the sport event name and the year.\")]\n",
    "        public string GetSportEventScore(string sportEventName = \"\", string sportEventYear = \"\")\n",
    "        {\n",
    "            Console.WriteLine($\"\\tPlugin: 'GetSportEventScore({sportEventName}, {sportEventYear})' called...\");\n",
    "            Console.WriteLine($\"\\tPlugin: 'GetSportEventScore({sportEventName}, {sportEventYear})' returning '24:1'...\");\n",
    "            // Implement the logic to get the result of the sport event.\n",
    "            return \"24:1\";\n",
    "        }\n",
    "    }\n",
    "\n",
    "    [KernelFunction]\n",
    "    public async Task<string> QueryForScore(Kernel kernel, string sportEventName)\n",
    "    {\n",
    "\n",
    "        Console.WriteLine($\"\\n'QueryForScore({sportEventName}) called...\");\n",
    "        \n",
    "        IChatCompletionService chatCompletionService = kernel.GetRequiredService<IChatCompletionService>();\n",
    "\n",
    "        string prompt = @$\"\n",
    "            \tWhat was the score of the {sportEventName}? \n",
    "                Just return the score.\"\n",
    "        ;\n",
    "        ChatHistory chatHistory = new ChatHistory();\n",
    "        chatHistory.AddUserMessage(prompt);\n",
    "        \n",
    "        kernel.Plugins.Clear();\n",
    "        kernel.Plugins.AddFromType<RetrieveScore>(\"RetrieveScore\");\n",
    "\n",
    "        KernelFunction getSportEventScore = kernel.Plugins.GetFunction(\"RetrieveScore\", \"get_sport_event_score\");\n",
    "        PromptExecutionSettings promptExecutionSettings = new PromptExecutionSettings() {\n",
    "            FunctionChoiceBehavior = FunctionChoiceBehavior.Required(\n",
    "                new List<KernelFunction>() { getSportEventScore }  \n",
    "            )\n",
    "        };\n",
    "        promptExecutionSettings.FunctionChoiceBehavior = FunctionChoiceBehavior.Required();\n",
    "        \n",
    "        Console.WriteLine($\"\\t'ChatCompletionService' called...\");       \n",
    "        ChatMessageContent chatMessageContent = await chatCompletionService.GetChatMessageContentAsync(\n",
    "            chatHistory: chatHistory, \n",
    "            executionSettings: promptExecutionSettings,\n",
    "            kernel: kernel\n",
    "        );\n",
    "        Console.WriteLine($\"\\t'ChatCompletionService' returned: {chatMessageContent.Content}...\");\n",
    "        \n",
    "        return chatMessageContent.Content ?? \"\";\n",
    "    }\n",
    "\n",
    "}  \n",
    "\n",
    "Console.WriteLine($\"'RetrieveScoreProcessStep' definied...\");\n"
   ]
  },
  {
   "cell_type": "code",
   "execution_count": 4,
   "metadata": {
    "dotnet_interactive": {
     "language": "csharp"
    },
    "polyglot_notebook": {
     "kernelName": "csharp"
    }
   },
   "outputs": [
    {
     "name": "stdout",
     "output_type": "stream",
     "text": [
      "'StoreResultHelper' defined...\r\n"
     ]
    }
   ],
   "source": [
    "#pragma warning disable SKEXP0080\n",
    "\n",
    "public class StoreResultHelper : KernelProcessStep\n",
    "{\n",
    "    static List<string> _storage = new List<string>();\n",
    "\n",
    "    [KernelFunction]\n",
    "    public async Task StoreResult(string result)\n",
    "    {\n",
    "        // Implement the logic to store the result.\n",
    "        await Task.Run( () => _storage.Add(result));\n",
    "    }\n",
    "\n",
    "    [KernelFunction]\n",
    "    public async Task DisplayResults(string result)\n",
    "    {\n",
    "        Console.WriteLine($\"\\nProcess results:\");\n",
    "        await Task.Run( () => {\n",
    "            foreach (string result in _storage)\n",
    "            {\n",
    "                Console.WriteLine($\"\\tStored result: {result}\");\n",
    "            }\n",
    "            Console.WriteLine($\"\\tStored result: {result}\");\n",
    "            _storage.Clear();\n",
    "        });\n",
    "    }\n",
    "}\n",
    "\n",
    "Console.WriteLine($\"'StoreResultHelper' defined...\");"
   ]
  },
  {
   "cell_type": "markdown",
   "metadata": {},
   "source": [
    "## Process"
   ]
  },
  {
   "cell_type": "code",
   "execution_count": 5,
   "metadata": {
    "dotnet_interactive": {
     "language": "csharp"
    },
    "polyglot_notebook": {
     "kernelName": "csharp"
    }
   },
   "outputs": [
    {
     "name": "stdout",
     "output_type": "stream",
     "text": [
      "Process defined ...\r\n"
     ]
    }
   ],
   "source": [
    "#pragma warning disable SKEXP0080\n",
    "\n",
    "// Create the process builder\n",
    "ProcessBuilder processBuilder = new(\"RetrieveSportEventResult\");\n",
    "\n",
    "// Add the steps\n",
    "ProcessStepBuilder retrieveWinnerProcessStep = processBuilder.AddStepFromType<RetrieveWinnerProcessStep>();\n",
    "ProcessStepBuilder retrieveScoreProcessStep = processBuilder.AddStepFromType<RetrieveScoreProcessStep>();\n",
    "ProcessStepBuilder storeResultProcessStep = processBuilder.AddStepFromType<StoreResultHelper>();\n",
    "\n",
    "\n",
    "processBuilder\n",
    "    .OnInputEvent(\"RetrieveSportEventResult\")\n",
    "    .SendEventTo(new (retrieveWinnerProcessStep));\n",
    "\n",
    "retrieveWinnerProcessStep\n",
    "    .OnFunctionResult()\n",
    "    .SendEventTo(new (retrieveScoreProcessStep))\n",
    "    .SendEventTo(new (storeResultProcessStep, functionName: \"StoreResult\"));\n",
    "\n",
    "retrieveScoreProcessStep\n",
    "    .OnFunctionResult()\n",
    "    .SendEventTo(new (storeResultProcessStep, functionName: \"DisplayResults\"));\n",
    "\n",
    "\n",
    "KernelProcess kernelProcess = processBuilder.Build();\n",
    "\n",
    "Console.WriteLine($\"Process defined ...\");"
   ]
  },
  {
   "cell_type": "markdown",
   "metadata": {},
   "source": [
    "## Kernel / Process Start"
   ]
  },
  {
   "cell_type": "code",
   "execution_count": 6,
   "metadata": {
    "dotnet_interactive": {
     "language": "csharp"
    },
    "polyglot_notebook": {
     "kernelName": "csharp"
    }
   },
   "outputs": [
    {
     "name": "stdout",
     "output_type": "stream",
     "text": [
      "\n",
      "'QueryForWinner(Super Sports Championship 2025) called...\n",
      "\t'ChatCompletionService' called...\n",
      "\tPlugin: 'GetSportEventWinner(Super Sports Championship, 2025)' called...\n",
      "\tPlugin: 'GetSportEventWinner(Super Sports Championship, 2025)' returning 'Munich Flying Dolphins'...\n",
      "\t'ChatCompletionService' returned Munich Flying Dolphins...\n",
      "\n",
      "'QueryForScore(Winner: Munich Flying Dolphins - Event: Super Sports Championship 2025) called...\n",
      "\t'ChatCompletionService' called...\n",
      "\tPlugin: 'GetSportEventScore(Super Sports Championship, 2025)' called...\n",
      "\tPlugin: 'GetSportEventScore(Super Sports Championship, 2025)' returning '24:1'...\n",
      "\t'ChatCompletionService' returned: 24:1...\n",
      "\n",
      "Process results:\n",
      "\tStored result: Winner: Munich Flying Dolphins - Event: Super Sports Championship 2025\n",
      "\tStored result: 24:1\n",
      "\n",
      "Process finished...\n"
     ]
    }
   ],
   "source": [
    "#pragma warning disable SKEXP0080\n",
    "\n",
    "Configuration _configuration = new Configuration();\n",
    "IKernelBuilder kernelBuilder = Kernel.CreateBuilder()\n",
    "    .AddAzureOpenAIChatCompletion(\n",
    "        apiKey: _configuration.ApiKey, \n",
    "        endpoint: _configuration.Endpoint, \n",
    "        deploymentName: _configuration.ChatCompletionDeploymentDefault\n",
    "    );\n",
    "kernelBuilder.Services.AddSingleton<Configuration>(_configuration);\n",
    "Kernel kernel = kernelBuilder.Build();\n",
    "\n",
    "KernelProcessContext kernelProcessContext = await kernelProcess.StartAsync(\n",
    "    kernel, \n",
    "    new KernelProcessEvent { \n",
    "        Id = \"RetrieveSportEventResult\", \n",
    "        Data = \"Super Sports Championship 2025\" \n",
    "    }\n",
    ");\n",
    "\n",
    "Console.WriteLine($\"\\nProcess finished...\");"
   ]
  }
 ],
 "metadata": {
  "kernelspec": {
   "display_name": ".NET (C#)",
   "language": "C#",
   "name": ".net-csharp"
  },
  "polyglot_notebook": {
   "kernelInfo": {
    "defaultKernelName": "csharp",
    "items": [
     {
      "aliases": [],
      "languageName": "csharp",
      "name": "csharp"
     }
    ]
   }
  }
 },
 "nbformat": 4,
 "nbformat_minor": 2
}
